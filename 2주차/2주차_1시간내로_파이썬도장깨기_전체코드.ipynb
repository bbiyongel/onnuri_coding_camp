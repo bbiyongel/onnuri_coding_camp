{
 "cells": [
  {
   "cell_type": "markdown",
   "id": "5d88ea70",
   "metadata": {},
   "source": [
    "# 1시간 내로 파이썬 도장깨기"
   ]
  },
  {
   "cell_type": "markdown",
   "id": "f050c336",
   "metadata": {},
   "source": [
    "## 주피터 노트북 사용법"
   ]
  },
  {
   "cell_type": "markdown",
   "id": "16145510",
   "metadata": {},
   "source": [
    "- b :아래줄 추가\n",
    "- a :윗줄 추가\n",
    "- shift enter :실행후 다음줄\n",
    "- ctrl enter : 실행 후 그자리\n",
    "- alt enter : 실행 후 다음줄 추가\n",
    "- 마크다운 : m\n",
    "- 마크다운 사이즈 : ####"
   ]
  },
  {
   "cell_type": "markdown",
   "id": "b5c58f0e",
   "metadata": {},
   "source": [
    "## 출력"
   ]
  },
  {
   "cell_type": "code",
   "execution_count": 5,
   "id": "00a38b1e",
   "metadata": {
    "ExecuteTime": {
     "end_time": "2022-07-16T00:23:35.786047Z",
     "start_time": "2022-07-16T00:23:35.780043Z"
    }
   },
   "outputs": [
    {
     "name": "stdout",
     "output_type": "stream",
     "text": [
      "hello world\n"
     ]
    }
   ],
   "source": [
    "print(\"hello world\")"
   ]
  },
  {
   "cell_type": "markdown",
   "id": "21e80ce6",
   "metadata": {},
   "source": [
    "## 변수"
   ]
  },
  {
   "cell_type": "markdown",
   "id": "8d28ce0c",
   "metadata": {},
   "source": [
    " - 문자로 시작, 숫자, _ 사용 가능\n",
    " - 대소문자 구분\n",
    " - 공백 사용 불가\n",
    " - 예약어 사용 불가"
   ]
  },
  {
   "cell_type": "code",
   "execution_count": 16,
   "id": "ec3bebed",
   "metadata": {
    "ExecuteTime": {
     "end_time": "2022-07-16T03:21:38.022513Z",
     "start_time": "2022-07-16T03:21:38.017510Z"
    }
   },
   "outputs": [],
   "source": [
    "c= 3\n",
    "d = \"school\""
   ]
  },
  {
   "cell_type": "markdown",
   "id": "3aa9de97",
   "metadata": {},
   "source": [
    "## 타입"
   ]
  },
  {
   "cell_type": "code",
   "execution_count": 6,
   "id": "5d127792",
   "metadata": {
    "ExecuteTime": {
     "end_time": "2022-07-16T03:19:48.314177Z",
     "start_time": "2022-07-16T03:19:48.308172Z"
    }
   },
   "outputs": [
    {
     "name": "stdout",
     "output_type": "stream",
     "text": [
      "a: <class 'int'>\n",
      "b: <class 'str'>\n"
     ]
    }
   ],
   "source": [
    "a = 1\n",
    "b = \"ABC coding\"\n",
    "\n",
    "print(\"a:\",type(a))\n",
    "print(\"b:\",type(b))"
   ]
  },
  {
   "cell_type": "code",
   "execution_count": 5,
   "id": "b3696c46",
   "metadata": {
    "ExecuteTime": {
     "end_time": "2022-07-16T03:33:53.876370Z",
     "start_time": "2022-07-16T03:33:53.872368Z"
    }
   },
   "outputs": [],
   "source": [
    "arr = [1,2,3,4]"
   ]
  },
  {
   "cell_type": "code",
   "execution_count": 6,
   "id": "bdc77dab",
   "metadata": {
    "ExecuteTime": {
     "end_time": "2022-07-16T03:33:54.240614Z",
     "start_time": "2022-07-16T03:33:54.224603Z"
    }
   },
   "outputs": [
    {
     "data": {
      "text/plain": [
       "list"
      ]
     },
     "execution_count": 6,
     "metadata": {},
     "output_type": "execute_result"
    }
   ],
   "source": [
    "type(arr)"
   ]
  },
  {
   "cell_type": "code",
   "execution_count": 7,
   "id": "16364fdd",
   "metadata": {
    "ExecuteTime": {
     "end_time": "2022-07-16T03:33:54.840015Z",
     "start_time": "2022-07-16T03:33:54.837013Z"
    }
   },
   "outputs": [],
   "source": [
    "arr.append(5)"
   ]
  },
  {
   "cell_type": "code",
   "execution_count": 8,
   "id": "c7f4b320",
   "metadata": {
    "ExecuteTime": {
     "end_time": "2022-07-16T03:33:59.642226Z",
     "start_time": "2022-07-16T03:33:59.635222Z"
    }
   },
   "outputs": [
    {
     "data": {
      "text/plain": [
       "[1, 2, 3, 4, 5]"
      ]
     },
     "execution_count": 8,
     "metadata": {},
     "output_type": "execute_result"
    }
   ],
   "source": [
    "arr"
   ]
  },
  {
   "cell_type": "code",
   "execution_count": 9,
   "id": "e22a11d3",
   "metadata": {
    "ExecuteTime": {
     "end_time": "2022-07-16T03:35:38.110539Z",
     "start_time": "2022-07-16T03:35:38.104534Z"
    }
   },
   "outputs": [
    {
     "data": {
      "text/plain": [
       "1"
      ]
     },
     "execution_count": 9,
     "metadata": {},
     "output_type": "execute_result"
    }
   ],
   "source": [
    "# 인덱스\n",
    "arr[0]"
   ]
  },
  {
   "cell_type": "code",
   "execution_count": 10,
   "id": "06f04590",
   "metadata": {
    "ExecuteTime": {
     "end_time": "2022-07-16T04:52:54.011241Z",
     "start_time": "2022-07-16T04:52:54.006240Z"
    }
   },
   "outputs": [],
   "source": [
    "del arr[3]"
   ]
  },
  {
   "cell_type": "code",
   "execution_count": 11,
   "id": "599ecc34",
   "metadata": {
    "ExecuteTime": {
     "end_time": "2022-07-16T04:53:00.219392Z",
     "start_time": "2022-07-16T04:53:00.213388Z"
    }
   },
   "outputs": [
    {
     "data": {
      "text/plain": [
       "[1, 2, 3, 5]"
      ]
     },
     "execution_count": 11,
     "metadata": {},
     "output_type": "execute_result"
    }
   ],
   "source": [
    "arr"
   ]
  },
  {
   "cell_type": "code",
   "execution_count": 12,
   "id": "6dc2be5f",
   "metadata": {
    "ExecuteTime": {
     "end_time": "2022-07-16T04:53:18.343507Z",
     "start_time": "2022-07-16T04:53:18.337503Z"
    }
   },
   "outputs": [
    {
     "data": {
      "text/plain": [
       "[1, 2, 3]"
      ]
     },
     "execution_count": 12,
     "metadata": {},
     "output_type": "execute_result"
    }
   ],
   "source": [
    "arr[0:3]"
   ]
  },
  {
   "cell_type": "code",
   "execution_count": 15,
   "id": "325134de",
   "metadata": {
    "ExecuteTime": {
     "end_time": "2022-07-16T04:56:14.246195Z",
     "start_time": "2022-07-16T04:56:14.242192Z"
    }
   },
   "outputs": [],
   "source": [
    "arr.sort(reverse=True)"
   ]
  },
  {
   "cell_type": "code",
   "execution_count": 16,
   "id": "284dcaf1",
   "metadata": {
    "ExecuteTime": {
     "end_time": "2022-07-16T04:56:14.720511Z",
     "start_time": "2022-07-16T04:56:14.713506Z"
    }
   },
   "outputs": [
    {
     "data": {
      "text/plain": [
       "[5, 3, 2, 1]"
      ]
     },
     "execution_count": 16,
     "metadata": {},
     "output_type": "execute_result"
    }
   ],
   "source": [
    "arr"
   ]
  },
  {
   "cell_type": "code",
   "execution_count": 18,
   "id": "e5875256",
   "metadata": {
    "ExecuteTime": {
     "end_time": "2022-07-16T04:56:53.692563Z",
     "start_time": "2022-07-16T04:56:53.685559Z"
    }
   },
   "outputs": [
    {
     "data": {
      "text/plain": [
       "1"
      ]
     },
     "execution_count": 18,
     "metadata": {},
     "output_type": "execute_result"
    }
   ],
   "source": [
    "arr.count(1)"
   ]
  },
  {
   "cell_type": "markdown",
   "id": "53f68f69",
   "metadata": {},
   "source": [
    "## 연산"
   ]
  },
  {
   "cell_type": "code",
   "execution_count": 17,
   "id": "31eebdf2",
   "metadata": {
    "ExecuteTime": {
     "end_time": "2022-07-16T03:21:38.780020Z",
     "start_time": "2022-07-16T03:21:38.774018Z"
    }
   },
   "outputs": [
    {
     "data": {
      "text/plain": [
       "4"
      ]
     },
     "execution_count": 17,
     "metadata": {},
     "output_type": "execute_result"
    }
   ],
   "source": [
    "a + c"
   ]
  },
  {
   "cell_type": "code",
   "execution_count": 18,
   "id": "9e28ed74",
   "metadata": {
    "ExecuteTime": {
     "end_time": "2022-07-16T03:21:39.938795Z",
     "start_time": "2022-07-16T03:21:39.932790Z"
    }
   },
   "outputs": [
    {
     "data": {
      "text/plain": [
       "'ABC codingschool'"
      ]
     },
     "execution_count": 18,
     "metadata": {},
     "output_type": "execute_result"
    }
   ],
   "source": [
    "b + d"
   ]
  },
  {
   "cell_type": "code",
   "execution_count": 19,
   "id": "77e1a4e9",
   "metadata": {
    "ExecuteTime": {
     "end_time": "2022-07-16T03:21:41.226655Z",
     "start_time": "2022-07-16T03:21:41.220652Z"
    }
   },
   "outputs": [
    {
     "data": {
      "text/plain": [
       "9"
      ]
     },
     "execution_count": 19,
     "metadata": {},
     "output_type": "execute_result"
    }
   ],
   "source": [
    "c ** 2"
   ]
  },
  {
   "cell_type": "code",
   "execution_count": 20,
   "id": "8a233e91",
   "metadata": {
    "ExecuteTime": {
     "end_time": "2022-07-16T03:21:49.304054Z",
     "start_time": "2022-07-16T03:21:49.298051Z"
    }
   },
   "outputs": [
    {
     "data": {
      "text/plain": [
       "1"
      ]
     },
     "execution_count": 20,
     "metadata": {},
     "output_type": "execute_result"
    }
   ],
   "source": [
    "5 % 2"
   ]
  },
  {
   "cell_type": "code",
   "execution_count": 21,
   "id": "98568d9d",
   "metadata": {
    "ExecuteTime": {
     "end_time": "2022-07-16T03:21:53.457832Z",
     "start_time": "2022-07-16T03:21:53.450828Z"
    }
   },
   "outputs": [
    {
     "data": {
      "text/plain": [
       "1"
      ]
     },
     "execution_count": 21,
     "metadata": {},
     "output_type": "execute_result"
    }
   ],
   "source": [
    "round(1.3)"
   ]
  },
  {
   "cell_type": "code",
   "execution_count": 22,
   "id": "c3c6067e",
   "metadata": {
    "ExecuteTime": {
     "end_time": "2022-07-16T03:23:05.303859Z",
     "start_time": "2022-07-16T03:23:05.296856Z"
    }
   },
   "outputs": [
    {
     "data": {
      "text/plain": [
       "False"
      ]
     },
     "execution_count": 22,
     "metadata": {},
     "output_type": "execute_result"
    }
   ],
   "source": [
    "1 == 2"
   ]
  },
  {
   "cell_type": "markdown",
   "id": "c2ce23a7",
   "metadata": {},
   "source": [
    "## 조건"
   ]
  },
  {
   "cell_type": "code",
   "execution_count": 23,
   "id": "dc11f5cc",
   "metadata": {
    "ExecuteTime": {
     "end_time": "2022-07-16T03:23:21.581743Z",
     "start_time": "2022-07-16T03:23:17.064720Z"
    }
   },
   "outputs": [
    {
     "name": "stdout",
     "output_type": "stream",
     "text": [
      "color?red\n",
      "no\n"
     ]
    }
   ],
   "source": [
    "color = input(\"color?\")\n",
    "\n",
    "if color == \"blue\":\n",
    "    print(\"ok\")\n",
    "else:\n",
    "    print(\"no\")"
   ]
  },
  {
   "cell_type": "markdown",
   "id": "d7a95280",
   "metadata": {},
   "source": [
    "## 반복"
   ]
  },
  {
   "cell_type": "code",
   "execution_count": 2,
   "id": "6fdf4e50",
   "metadata": {
    "ExecuteTime": {
     "end_time": "2022-07-16T00:13:48.067207Z",
     "start_time": "2022-07-16T00:13:48.061202Z"
    }
   },
   "outputs": [
    {
     "name": "stdout",
     "output_type": "stream",
     "text": [
      "0\n",
      "1\n",
      "2\n",
      "3\n",
      "4\n",
      "5\n",
      "6\n",
      "7\n",
      "8\n",
      "9\n"
     ]
    }
   ],
   "source": [
    "for i in range(10):\n",
    "    print(i)"
   ]
  },
  {
   "cell_type": "code",
   "execution_count": 3,
   "id": "f03d1aa5",
   "metadata": {
    "ExecuteTime": {
     "end_time": "2022-07-16T00:14:26.559938Z",
     "start_time": "2022-07-16T00:14:26.552934Z"
    }
   },
   "outputs": [
    {
     "name": "stdout",
     "output_type": "stream",
     "text": [
      "xx\n",
      "yy\n",
      "zz\n"
     ]
    }
   ],
   "source": [
    "x = [\"xx\",\"yy\",\"zz\"]\n",
    "for i in x:\n",
    "    print(i)"
   ]
  },
  {
   "cell_type": "code",
   "execution_count": 24,
   "id": "99cc828c",
   "metadata": {
    "ExecuteTime": {
     "end_time": "2022-07-16T03:24:02.310967Z",
     "start_time": "2022-07-16T03:24:02.305965Z"
    }
   },
   "outputs": [
    {
     "name": "stdout",
     "output_type": "stream",
     "text": [
      "55\n"
     ]
    }
   ],
   "source": [
    "# 1부터 10까지 더하기\n",
    "j = 0\n",
    "for i in range(1,11):\n",
    "    j = j + i \n",
    "\n",
    "print(j)"
   ]
  },
  {
   "cell_type": "code",
   "execution_count": 1,
   "id": "6726dfed",
   "metadata": {
    "ExecuteTime": {
     "end_time": "2022-07-16T00:13:29.699928Z",
     "start_time": "2022-07-16T00:13:29.692923Z"
    }
   },
   "outputs": [
    {
     "name": "stdout",
     "output_type": "stream",
     "text": [
      "hi\n",
      "hi\n",
      "hi\n",
      "hi\n",
      "hi\n",
      "hi\n",
      "hi\n"
     ]
    }
   ],
   "source": [
    "t = 3\n",
    "while t<10:\n",
    "    print(\"hi\")\n",
    "    t=t+1"
   ]
  },
  {
   "cell_type": "markdown",
   "id": "9c327828",
   "metadata": {},
   "source": [
    "## 함수"
   ]
  },
  {
   "cell_type": "code",
   "execution_count": 26,
   "id": "c2aa8f5b",
   "metadata": {
    "ExecuteTime": {
     "end_time": "2022-07-16T03:25:50.467267Z",
     "start_time": "2022-07-16T03:25:50.462264Z"
    }
   },
   "outputs": [],
   "source": [
    "def sum(a,b):\n",
    "    return a + b"
   ]
  },
  {
   "cell_type": "code",
   "execution_count": 28,
   "id": "7b9ff7ac",
   "metadata": {
    "ExecuteTime": {
     "end_time": "2022-07-16T03:26:04.440608Z",
     "start_time": "2022-07-16T03:26:04.434603Z"
    }
   },
   "outputs": [
    {
     "data": {
      "text/plain": [
       "7"
      ]
     },
     "execution_count": 28,
     "metadata": {},
     "output_type": "execute_result"
    }
   ],
   "source": [
    "sum(4,3)"
   ]
  },
  {
   "cell_type": "markdown",
   "id": "b3dbafb8",
   "metadata": {},
   "source": [
    "## 주석"
   ]
  },
  {
   "cell_type": "code",
   "execution_count": 2,
   "id": "b941da3c",
   "metadata": {
    "ExecuteTime": {
     "end_time": "2022-07-16T03:31:39.875794Z",
     "start_time": "2022-07-16T03:31:39.871792Z"
    }
   },
   "outputs": [],
   "source": [
    "# 주석은 설명. 코드 실행과는 전혀 상관없습니다."
   ]
  },
  {
   "cell_type": "markdown",
   "id": "cc654071",
   "metadata": {},
   "source": [
    "## 패키지 설치"
   ]
  },
  {
   "cell_type": "markdown",
   "id": "490c5e7e",
   "metadata": {},
   "source": [
    "pip install xxx"
   ]
  },
  {
   "cell_type": "markdown",
   "id": "68ede461",
   "metadata": {},
   "source": [
    "## 패키지 사용하기"
   ]
  },
  {
   "cell_type": "markdown",
   "id": "8abdcae2",
   "metadata": {},
   "source": [
    "import xxx as xx"
   ]
  },
  {
   "cell_type": "code",
   "execution_count": 25,
   "id": "87bbad86",
   "metadata": {
    "ExecuteTime": {
     "end_time": "2022-07-16T03:25:24.759082Z",
     "start_time": "2022-07-16T03:25:23.473222Z"
    }
   },
   "outputs": [],
   "source": [
    "import pandas as pd"
   ]
  },
  {
   "cell_type": "markdown",
   "id": "d599b2e6",
   "metadata": {},
   "source": [
    "## 저장"
   ]
  },
  {
   "cell_type": "code",
   "execution_count": 3,
   "id": "4c572175",
   "metadata": {
    "ExecuteTime": {
     "end_time": "2022-07-16T03:32:16.028963Z",
     "start_time": "2022-07-16T03:32:16.024959Z"
    }
   },
   "outputs": [],
   "source": [
    "# 디스크 모양"
   ]
  }
 ],
 "metadata": {
  "kernelspec": {
   "display_name": "Python 3",
   "language": "python",
   "name": "python3"
  },
  "language_info": {
   "codemirror_mode": {
    "name": "ipython",
    "version": 3
   },
   "file_extension": ".py",
   "mimetype": "text/x-python",
   "name": "python",
   "nbconvert_exporter": "python",
   "pygments_lexer": "ipython3",
   "version": "3.8.8"
  },
  "toc": {
   "base_numbering": 1,
   "nav_menu": {},
   "number_sections": true,
   "sideBar": true,
   "skip_h1_title": false,
   "title_cell": "Table of Contents",
   "title_sidebar": "Contents",
   "toc_cell": false,
   "toc_position": {},
   "toc_section_display": true,
   "toc_window_display": false
  },
  "varInspector": {
   "cols": {
    "lenName": 16,
    "lenType": 16,
    "lenVar": 40
   },
   "kernels_config": {
    "python": {
     "delete_cmd_postfix": "",
     "delete_cmd_prefix": "del ",
     "library": "var_list.py",
     "varRefreshCmd": "print(var_dic_list())"
    },
    "r": {
     "delete_cmd_postfix": ") ",
     "delete_cmd_prefix": "rm(",
     "library": "var_list.r",
     "varRefreshCmd": "cat(var_dic_list()) "
    }
   },
   "types_to_exclude": [
    "module",
    "function",
    "builtin_function_or_method",
    "instance",
    "_Feature"
   ],
   "window_display": false
  }
 },
 "nbformat": 4,
 "nbformat_minor": 5
}
